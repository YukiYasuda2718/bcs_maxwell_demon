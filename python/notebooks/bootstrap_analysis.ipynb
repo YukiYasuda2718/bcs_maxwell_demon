{
 "cells": [
  {
   "cell_type": "code",
   "execution_count": null,
   "id": "ad20d1e5-8a77-492d-9455-58d812ccf0c4",
   "metadata": {},
   "outputs": [],
   "source": [
    "%load_ext autoreload\n",
    "%autoreload 2\n",
    "%matplotlib inline"
   ]
  },
  {
   "cell_type": "code",
   "execution_count": null,
   "id": "054f0a82-d170-4c55-b31b-adea7e2ca40b",
   "metadata": {},
   "outputs": [],
   "source": [
    "import sys\n",
    "from logging import INFO, WARNING, StreamHandler, getLogger\n",
    "\n",
    "logger = getLogger()\n",
    "if not logger.hasHandlers():\n",
    "    logger.addHandler(StreamHandler(sys.stdout))\n",
    "logger.setLevel(INFO)"
   ]
  },
  {
   "cell_type": "markdown",
   "id": "13875123-cac7-4e55-8fe4-cb248b30a8a7",
   "metadata": {},
   "source": [
    "# Import"
   ]
  },
  {
   "cell_type": "code",
   "execution_count": null,
   "id": "af4025eb-c20c-437d-b87c-d4557001f4dd",
   "metadata": {},
   "outputs": [],
   "source": [
    "import copy\n",
    "import os\n",
    "import pathlib\n",
    "\n",
    "import matplotlib\n",
    "import matplotlib.pyplot as plt\n",
    "import numpy as np\n",
    "import pandas as pd\n",
    "from src.data.io_matlab import read_matlab_time_series\n",
    "from src.data.io_pickles import read_pickle, write_pickle\n",
    "from src.information_theory.corr_helper import calc_lag_rhos\n",
    "from src.information_theory.loos_klapp_2020 import (\n",
    "    Config,\n",
    "    calc_I_x_to_y,\n",
    "    calc_I_y_to_x,\n",
    "    calc_Qx,\n",
    "    calc_Qy,\n",
    ")\n",
    "from src.simulation.block_bootstrap import BlockBootstrap\n",
    "from src.simulation.sde_coeff_estimator import estimate_sde_coeffs_for_bcs\n",
    "from src.utils.random_seed_helper import set_all_seeds\n",
    "from tqdm.notebook import tqdm\n",
    "\n",
    "plt.rcParams[\"font.family\"] = \"serif\"\n",
    "plt.style.use(\"tableau-colorblind10\")"
   ]
  },
  {
   "cell_type": "markdown",
   "id": "78d099b0-9f79-4f33-b809-f37fbc9356aa",
   "metadata": {},
   "source": [
    "# Define constants"
   ]
  },
  {
   "cell_type": "code",
   "execution_count": null,
   "id": "6dbaebb9-4e65-4470-a5f9-b3f7bb09003b",
   "metadata": {},
   "outputs": [],
   "source": [
    "ROOT_DIR = str((pathlib.Path(os.environ[\"PYTHONPATH\"]) / \"..\").resolve())\n",
    "BCS_DATA_DIR = f\"{ROOT_DIR}/data\"\n",
    "\n",
    "OBS_FILE_PATH = f\"{BCS_DATA_DIR}/observations.mat\"\n",
    "GFDL_FILE_PATH = f\"{BCS_DATA_DIR}/simulation_GFDLCM4C192.mat\"\n",
    "\n",
    "N_BOOTSTRAP = 2000"
   ]
  },
  {
   "cell_type": "markdown",
   "id": "94ac2afc-bfcf-481f-b1d6-d013580090a7",
   "metadata": {},
   "source": [
    "# Read data"
   ]
  },
  {
   "cell_type": "code",
   "execution_count": null,
   "id": "3826a612-dbd2-4e08-8701-7de01b16fe58",
   "metadata": {},
   "outputs": [],
   "source": [
    "df_obs_time_series = read_matlab_time_series(OBS_FILE_PATH)\n",
    "df_gfdl_time_series = read_matlab_time_series(GFDL_FILE_PATH)"
   ]
  },
  {
   "cell_type": "markdown",
   "id": "0e0c609c-14b4-4f7a-b939-8266f209cc0f",
   "metadata": {},
   "source": [
    "# Estimate VAR1 coeffs using bootstrap resamples"
   ]
  },
  {
   "cell_type": "code",
   "execution_count": null,
   "id": "fbd0ef5c-ae53-42c5-92db-4dd37f1d3fe5",
   "metadata": {},
   "outputs": [],
   "source": [
    "target_cols = [\"gulfstrm\", \"kuroshio\"]\n",
    "\n",
    "for data_name, df_time_series in zip(\n",
    "    [\"Observation\", \"Simulation-GFDL-CM4C192\"],\n",
    "    [df_obs_time_series, df_gfdl_time_series],\n",
    "):\n",
    "    logger.info(f\"\\nData name = {data_name}\")\n",
    "    pickle_path = f\"./bootstrap_replications_{data_name}.pickle\"\n",
    "\n",
    "    data = df_time_series.loc[:, target_cols].values\n",
    "    bootstrap = BlockBootstrap(time_series=data, block_length=10)\n",
    "\n",
    "    block_length = bootstrap.calc_block_length_using_Sherman98()\n",
    "    bootstrap.set_new_block_length(block_length)\n",
    "\n",
    "    if os.path.exists(pickle_path):\n",
    "        dict_results = read_pickle(pickle_path)\n",
    "        logger.info(\"Read pickle file\")\n",
    "    else:\n",
    "        dict_results = {}\n",
    "        logger.info(\"Create empty dict\")\n",
    "\n",
    "    set_all_seeds()\n",
    "\n",
    "    for i in tqdm(range(N_BOOTSTRAP)):\n",
    "        resample = bootstrap.generature_a_resample()\n",
    "\n",
    "        # This judge for continue must be after resampling.\n",
    "        if i in dict_results.keys():\n",
    "            continue\n",
    "\n",
    "        df = pd.DataFrame(resample, columns=target_cols)\n",
    "        df[\"time\"] = df_time_series[\"time\"].copy()\n",
    "\n",
    "        logger.setLevel(WARNING)\n",
    "        config = estimate_sde_coeffs_for_bcs(df)[\"config\"]\n",
    "        logger.setLevel(INFO)\n",
    "\n",
    "        params = copy.deepcopy(config.__dict__)\n",
    "\n",
    "        params[\"Qx\"] = calc_Qx(config)\n",
    "        params[\"Qy\"] = calc_Qy(config)\n",
    "        params[\"Ix\"] = calc_I_y_to_x(config)\n",
    "        params[\"Iy\"] = calc_I_x_to_y(config)\n",
    "\n",
    "        dict_results[i] = params\n",
    "\n",
    "        if (i + 1) % 10 == 0 or (i + 1) == N_BOOTSTRAP:\n",
    "            write_pickle(dict_results, pickle_path)"
   ]
  },
  {
   "cell_type": "markdown",
   "id": "9b93d89c-7aef-4636-a171-af41a0bca8c3",
   "metadata": {},
   "source": [
    "# Plot replications' distributions"
   ]
  },
  {
   "cell_type": "code",
   "execution_count": null,
   "id": "0f74dd52-b00f-4854-be27-fd9f546bd3d1",
   "metadata": {},
   "outputs": [],
   "source": [
    "all_vars = [\"Tx\", \"rx\", \"a\", \"Qx\", \"Ix\", \"Ty\", \"ry\", \"b\", \"Qy\", \"Iy\"]\n",
    "\n",
    "\n",
    "for data_name in [\"Observation\", \"Simulation-GFDL-CM4C192\"]:\n",
    "    pickle_path = f\"./bootstrap_replications_{data_name}.pickle\"\n",
    "    dict_params = read_pickle(pickle_path)\n",
    "\n",
    "    all_data = {}\n",
    "    for v in all_vars:\n",
    "        all_data[v] = []\n",
    "        for param in dict_params.values():\n",
    "            all_data[v].append(param[v])\n",
    "\n",
    "    plt.rcParams[\"font.size\"] = 15\n",
    "    fig, axes = plt.subplots(2, 5, figsize=[14, 5])\n",
    "    axes = np.ravel(axes)\n",
    "\n",
    "    for ax, v in zip(axes, [\"Tx\", \"rx\", \"a\", \"Qx\", \"Ix\", \"Ty\", \"ry\", \"b\", \"Qy\", \"Iy\"]):\n",
    "        data = all_data[v]\n",
    "        ax.hist(data, bins=31, density=True)\n",
    "        ax.set_xlabel(v)\n",
    "        ax.set_ylabel(\"PDF\")\n",
    "        ax.set_title(v)\n",
    "\n",
    "    plt.suptitle(data_name)\n",
    "    plt.tight_layout()\n",
    "    plt.show()"
   ]
  },
  {
   "cell_type": "code",
   "execution_count": null,
   "id": "1270ba1e-d056-426c-bb43-88ee5bb1fbce",
   "metadata": {},
   "outputs": [],
   "source": [
    "all_vars = [\"Tx\", \"rx\", \"a\", \"Qx\", \"Ix\", \"Ty\", \"ry\", \"b\", \"Qy\", \"Iy\"]\n",
    "\n",
    "\n",
    "for data_name in [\"Observation\", \"Simulation-GFDL-CM4C192\"]:\n",
    "    pickle_path = f\"./bootstrap_replications_{data_name}.pickle\"\n",
    "    dict_params = read_pickle(pickle_path)\n",
    "\n",
    "    all_data = {}\n",
    "    for v in all_vars:\n",
    "        all_data[v] = []\n",
    "        for param in dict_params.values():\n",
    "            all_data[v].append(param[v])\n",
    "\n",
    "    plt.rcParams[\"font.size\"] = 15\n",
    "    fig = plt.figure(figsize=[5, 4])\n",
    "    ax = plt.subplot(111)\n",
    "\n",
    "    Qx = all_data[\"Qx\"]\n",
    "    Qy = all_data[\"Qy\"]\n",
    "    a = all_data[\"a\"]\n",
    "    b = all_data[\"b\"]\n",
    "    cnt1, cnt2 = 0, 0\n",
    "    for i in range(len(Qx)):\n",
    "        if a[i] > 0 and b[i] > 0:\n",
    "            continue\n",
    "        else:\n",
    "            cnt2 += 1\n",
    "\n",
    "        if Qx[i] * Qy[i] < 0:\n",
    "            continue\n",
    "        else:\n",
    "            cnt1 += 1\n",
    "    print(len(Qx) - cnt1, len(Qx) - cnt2)\n",
    "    print(cnt1, cnt2)\n",
    "\n",
    "    ax.scatter(Qx, Qy, marker=\".\")\n",
    "\n",
    "    ax.set_xlabel(\"Qx\")\n",
    "    ax.set_ylabel(\"Qy\")\n",
    "\n",
    "    ax.axvline(0, color=\"k\", ls=\"--\")\n",
    "    ax.axhline(0, color=\"k\", ls=\"--\")\n",
    "\n",
    "    ax.set_title(data_name)\n",
    "    ax.set_xlim(-0.01, 0.01)\n",
    "    ax.set_ylim(-0.01, 0.04)\n",
    "\n",
    "    plt.tight_layout()\n",
    "    plt.show()"
   ]
  },
  {
   "cell_type": "markdown",
   "id": "fde644be-a1b1-498e-be73-9b1db93adb1e",
   "metadata": {},
   "source": [
    "# Lag correlation"
   ]
  },
  {
   "cell_type": "code",
   "execution_count": null,
   "id": "17d4f981-a558-4a75-9b24-95c3b14b8ce5",
   "metadata": {},
   "outputs": [],
   "source": [
    "lags = np.linspace(-25, 25, 251)\n",
    "dict_results = {}\n",
    "alpha = 0.05\n",
    "\n",
    "for data_name in [\"Observation\", \"Simulation-GFDL-CM4C192\"]:\n",
    "    pickle_path = f\"./bootstrap_replications_{data_name}.pickle\"\n",
    "    dict_params = read_pickle(pickle_path)\n",
    "\n",
    "    list_lag_corrs = []\n",
    "\n",
    "    for param in tqdm(dict_params.values()):\n",
    "        cfg = Config(\n",
    "            Tx=param[\"Tx\"],\n",
    "            Ty=param[\"Ty\"],\n",
    "            a=param[\"a\"],\n",
    "            b=param[\"b\"],\n",
    "            rx=param[\"rx\"],\n",
    "            ry=param[\"ry\"],\n",
    "        )\n",
    "        rhos = calc_lag_rhos(cfg, lags)[::-1]\n",
    "        list_lag_corrs.append(rhos)\n",
    "    all_rhos = np.stack(list_lag_corrs, axis=0)\n",
    "\n",
    "    dict_results[data_name] = {\n",
    "        \"mean_rhos\": np.mean(all_rhos, axis=0),\n",
    "        \"min_rhos\": np.quantile(all_rhos, q=alpha / 2.0, axis=0),\n",
    "        \"max_rhos\": np.quantile(all_rhos, q=1.0 - alpha / 2.0, axis=0),\n",
    "    }"
   ]
  },
  {
   "cell_type": "code",
   "execution_count": null,
   "id": "62190862-023f-42c1-b30b-fdc1e38cf1fb",
   "metadata": {},
   "outputs": [],
   "source": [
    "for data_name in [\"Observation\", \"Simulation-GFDL-CM4C192\"]:\n",
    "    mean_rhos = dict_results[data_name][\"mean_rhos\"]\n",
    "    min_rhos = dict_results[data_name][\"min_rhos\"]\n",
    "    max_rhos = dict_results[data_name][\"max_rhos\"]\n",
    "\n",
    "    plt.rcParams[\"font.size\"] = 13\n",
    "    fig = plt.figure(figsize=[5, 4])\n",
    "    ax = fig.add_subplot(111)\n",
    "\n",
    "    ax.plot(lags, mean_rhos, lw=2, color=\"k\")\n",
    "    ax.fill_between(lags, y1=min_rhos, y2=max_rhos, alpha=0.25, color=\"gray\")\n",
    "    ax.axhline(0.0, ls=\"--\", color=\"k\")\n",
    "    ax.axvline(0.0, ls=\"--\", color=\"k\")\n",
    "    ax.set_ylabel(\"Lag Correlations\")\n",
    "\n",
    "    n_months = 24\n",
    "    ax.set_xlim([-n_months, n_months])\n",
    "    ax.set_xticks(np.linspace(-n_months, n_months, 9), labels=None)\n",
    "    ax.xaxis.set_minor_locator(\n",
    "        matplotlib.ticker.FixedLocator(np.linspace(-n_months, n_months, 17))\n",
    "    )\n",
    "    ax.set_xlabel(\"Lag [month]\")\n",
    "\n",
    "    ax.set_title(data_name)\n",
    "    plt.tight_layout()\n",
    "    plt.show()"
   ]
  },
  {
   "cell_type": "code",
   "execution_count": null,
   "id": "362b33e2-eb1b-4d02-b38b-19b5126b746a",
   "metadata": {},
   "outputs": [],
   "source": []
  }
 ],
 "metadata": {
  "kernelspec": {
   "display_name": "Python 3 (ipykernel)",
   "language": "python",
   "name": "python3"
  },
  "language_info": {
   "codemirror_mode": {
    "name": "ipython",
    "version": 3
   },
   "file_extension": ".py",
   "mimetype": "text/x-python",
   "name": "python",
   "nbconvert_exporter": "python",
   "pygments_lexer": "ipython3",
   "version": "3.10.12"
  }
 },
 "nbformat": 4,
 "nbformat_minor": 5
}
